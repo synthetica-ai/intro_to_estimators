{
 "cells": [
  {
   "cell_type": "markdown",
   "metadata": {},
   "source": [
    "# How to load csv data in tensorflow?"
   ]
  },
  {
   "cell_type": "code",
   "execution_count": 36,
   "metadata": {},
   "outputs": [],
   "source": [
    "import tensorflow as tf\n",
    "import pandas as pd\n",
    "import numpy as np"
   ]
  },
  {
   "cell_type": "code",
   "execution_count": 42,
   "metadata": {},
   "outputs": [],
   "source": [
    "wine_path = './winequality-red.csv'"
   ]
  },
  {
   "cell_type": "code",
   "execution_count": 18,
   "metadata": {},
   "outputs": [],
   "source": [
    "wines = pd.read_csv('winequality-red.csv')"
   ]
  },
  {
   "cell_type": "markdown",
   "metadata": {},
   "source": [
    "# First way"
   ]
  },
  {
   "cell_type": "markdown",
   "metadata": {},
   "source": [
    "1. Read the csv as a pandas dataframe.\n",
    "2. Convert the dataframe to a dictionary.\n",
    "3. Create tensor slices from the created dictionary. "
   ]
  },
  {
   "cell_type": "code",
   "execution_count": 29,
   "metadata": {},
   "outputs": [],
   "source": [
    "wine_slices = tf.data.Dataset.from_tensor_slices(dict(wines))\n",
    "wine_slices=wine_slices.batch(1)"
   ]
  },
  {
   "cell_type": "code",
   "execution_count": 30,
   "metadata": {},
   "outputs": [
    {
     "name": "stdout",
     "output_type": "stream",
     "text": [
      "fixed acidity: [7.4]\n",
      "volatile acidity: [0.7]\n",
      "citric acid: [0.]\n",
      "residual sugar: [1.9]\n",
      "chlorides: [0.076]\n",
      "free sulfur dioxide: [11.]\n",
      "total sulfur dioxide: [34.]\n",
      "density: [0.9978]\n",
      "pH: [3.51]\n",
      "sulphates: [0.56]\n",
      "alcohol: [9.4]\n",
      "quality: [5]\n"
     ]
    }
   ],
   "source": [
    "for feature_batch in wine_slices.take(1):\n",
    "    for key, value in feature_batch.items():\n",
    "        print(\"{}: {}\".format(key, value))"
   ]
  },
  {
   "cell_type": "markdown",
   "metadata": {},
   "source": [
    "# Second Way"
   ]
  },
  {
   "cell_type": "markdown",
   "metadata": {},
   "source": [
    "The second way is useful for scaling up to a large set of files or when one needs a loader that integrates with Tensorflow and the tf.data API.\n",
    "\n",
    "The implementation involves using the tf.data.experimental.make_csv_dataset function.\n",
    "\n",
    "The only column you need to identify explicitly is the one with the value that the model is intended to predict (named label_column here).\n"
   ]
  },
  {
   "cell_type": "code",
   "execution_count": 39,
   "metadata": {},
   "outputs": [],
   "source": [
    "# experimental.make_csv_dataset\n",
    "\n",
    "labels = list(range(0,10))\n",
    "\n",
    "\n",
    "\n"
   ]
  },
  {
   "cell_type": "code",
   "execution_count": 40,
   "metadata": {},
   "outputs": [
    {
     "data": {
      "text/plain": [
       "[0, 1, 2, 3, 4, 5, 6, 7, 8, 9]"
      ]
     },
     "execution_count": 40,
     "metadata": {},
     "output_type": "execute_result"
    }
   ],
   "source": [
    "labels"
   ]
  },
  {
   "cell_type": "code",
   "execution_count": 55,
   "metadata": {},
   "outputs": [],
   "source": [
    "def get_dataset(file_path, label_column, **kwargs):\n",
    "    \"\"\"\n",
    "    Creates a tf dataset from csv in file_path.\n",
    "    \n",
    "    file_path : The path to the csv file including the csv.\n",
    "    \n",
    "    label_columns : The target column label. \n",
    "\n",
    "    \"\"\"\n",
    "    \n",
    "    dataset = tf.data.experimental.make_csv_dataset(\n",
    "        file_path,\n",
    "        batch_size = 5,\n",
    "        label_name = label_column,\n",
    "        na_value=\"?\",\n",
    "        num_epochs=1,\n",
    "        **kwargs)\n",
    "    \n",
    "    return dataset"
   ]
  },
  {
   "cell_type": "code",
   "execution_count": 56,
   "metadata": {},
   "outputs": [],
   "source": [
    "wine_tf_data = get_dataset(file_path = wine_path, label_column = 'quality' )"
   ]
  },
  {
   "cell_type": "code",
   "execution_count": 46,
   "metadata": {},
   "outputs": [
    {
     "data": {
      "text/plain": [
       "<PrefetchDataset shapes: (OrderedDict([(fixed acidity, (None,)), (volatile acidity, (None,)), (citric acid, (None,)), (residual sugar, (None,)), (chlorides, (None,)), (free sulfur dioxide, (None,)), (total sulfur dioxide, (None,)), (density, (None,)), (pH, (None,)), (sulphates, (None,)), (alcohol, (None,))]), (None,)), types: (OrderedDict([(fixed acidity, tf.float32), (volatile acidity, tf.float32), (citric acid, tf.float32), (residual sugar, tf.float32), (chlorides, tf.float32), (free sulfur dioxide, tf.float32), (total sulfur dioxide, tf.float32), (density, tf.float32), (pH, tf.float32), (sulphates, tf.float32), (alcohol, tf.float32)]), tf.int32)>"
      ]
     },
     "execution_count": 46,
     "metadata": {},
     "output_type": "execute_result"
    }
   ],
   "source": [
    "wine_data"
   ]
  },
  {
   "cell_type": "code",
   "execution_count": 53,
   "metadata": {},
   "outputs": [],
   "source": [
    "def show_batch(dataset):\n",
    "    for batch,label in dataset.take(1):\n",
    "        for key, value in batch.items():\n",
    "            print(\"{:20s}: {}\".format(key,value.numpy()))"
   ]
  },
  {
   "cell_type": "code",
   "execution_count": 57,
   "metadata": {},
   "outputs": [
    {
     "name": "stdout",
     "output_type": "stream",
     "text": [
      "fixed acidity       : [6.3 9.4 7.4 6.3 7.1]\n",
      "volatile acidity    : [0.57  0.4   0.55  0.98  0.875]\n",
      "citric acid         : [0.28 0.47 0.19 0.01 0.05]\n",
      "residual sugar      : [2.1 2.5 1.8 2.  5.7]\n",
      "chlorides           : [0.048 0.087 0.082 0.057 0.082]\n",
      "free sulfur dioxide : [13.  6. 15. 15.  3.]\n",
      "total sulfur dioxide: [49. 20. 34. 33. 14.]\n",
      "density             : [0.99374 0.99772 0.99655 0.99488 0.99808]\n",
      "pH                  : [3.41 3.15 3.49 3.6  3.4 ]\n",
      "sulphates           : [0.6  0.5  0.68 0.46 0.52]\n",
      "alcohol             : [12.8 10.5 10.5 11.2 10.2]\n"
     ]
    }
   ],
   "source": [
    "show_batch(wine_tf_data)"
   ]
  },
  {
   "cell_type": "code",
   "execution_count": 58,
   "metadata": {},
   "outputs": [
    {
     "data": {
      "text/plain": [
       "<PrefetchDataset shapes: (OrderedDict([(fixed acidity, (None,)), (volatile acidity, (None,)), (citric acid, (None,)), (residual sugar, (None,)), (chlorides, (None,)), (free sulfur dioxide, (None,)), (total sulfur dioxide, (None,)), (density, (None,)), (pH, (None,)), (sulphates, (None,)), (alcohol, (None,))]), (None,)), types: (OrderedDict([(fixed acidity, tf.float32), (volatile acidity, tf.float32), (citric acid, tf.float32), (residual sugar, tf.float32), (chlorides, tf.float32), (free sulfur dioxide, tf.float32), (total sulfur dioxide, tf.float32), (density, tf.float32), (pH, tf.float32), (sulphates, tf.float32), (alcohol, tf.float32)]), tf.int32)>"
      ]
     },
     "execution_count": 58,
     "metadata": {},
     "output_type": "execute_result"
    }
   ],
   "source": [
    "wine_tf_data."
   ]
  },
  {
   "cell_type": "code",
   "execution_count": null,
   "metadata": {},
   "outputs": [],
   "source": []
  },
  {
   "cell_type": "code",
   "execution_count": null,
   "metadata": {},
   "outputs": [],
   "source": []
  },
  {
   "cell_type": "code",
   "execution_count": null,
   "metadata": {},
   "outputs": [],
   "source": []
  },
  {
   "cell_type": "code",
   "execution_count": null,
   "metadata": {},
   "outputs": [],
   "source": []
  },
  {
   "cell_type": "code",
   "execution_count": null,
   "metadata": {},
   "outputs": [],
   "source": []
  },
  {
   "cell_type": "code",
   "execution_count": 16,
   "metadata": {},
   "outputs": [
    {
     "name": "stdout",
     "output_type": "stream",
     "text": [
      "'quality': [6 5 5 5]\n",
      "features:\n",
      "  'fixed acidity'     : [9.  7.7 7.2 7.3]\n",
      "  'volatile acidity'  : [0.4   0.54  0.725 0.835]\n",
      "  'citric acid'       : [0.41 0.26 0.05 0.03]\n",
      "  'residual sugar'    : [2.   1.9  4.65 2.1 ]\n",
      "  'chlorides'         : [0.058 0.089 0.086 0.092]\n",
      "  'free sulfur dioxide': [15. 23.  4. 10.]\n",
      "  'total sulfur dioxide': [ 40. 147.  11.  19.]\n",
      "  'density'           : [0.99414 0.99636 0.9962  0.9966 ]\n",
      "  'pH'                : [3.22 3.26 3.41 3.39]\n",
      "  'sulphates'         : [0.6  0.59 0.39 0.47]\n",
      "  'alcohol'           : [12.2  9.7 10.9  9.6]\n"
     ]
    }
   ],
   "source": [
    "for feature_batch, label_batch in wine_batches.take(1):\n",
    "    print(\"'quality': {}\".format(label_batch))\n",
    "    print(\"features:\")\n",
    "    for key, value in feature_batch.items():\n",
    "        print(\"  {!r:20s}: {}\".format(key, value))"
   ]
  }
 ],
 "metadata": {
  "kernelspec": {
   "display_name": "Python 3",
   "language": "python",
   "name": "python3"
  },
  "language_info": {
   "codemirror_mode": {
    "name": "ipython",
    "version": 3
   },
   "file_extension": ".py",
   "mimetype": "text/x-python",
   "name": "python",
   "nbconvert_exporter": "python",
   "pygments_lexer": "ipython3",
   "version": "3.7.6"
  },
  "latex_envs": {
   "LaTeX_envs_menu_present": true,
   "autoclose": true,
   "autocomplete": true,
   "bibliofile": "biblio.bib",
   "cite_by": "apalike",
   "current_citInitial": 1,
   "eqLabelWithNumbers": true,
   "eqNumInitial": 1,
   "hotkeys": {
    "equation": "Ctrl-E",
    "itemize": "Ctrl-I"
   },
   "labels_anchors": false,
   "latex_user_defs": false,
   "report_style_numbering": false,
   "user_envs_cfg": true
  },
  "toc": {
   "base_numbering": "0",
   "nav_menu": {},
   "number_sections": true,
   "sideBar": true,
   "skip_h1_title": false,
   "title_cell": "Table of Contents",
   "title_sidebar": "Contents",
   "toc_cell": false,
   "toc_position": {
    "height": "calc(100% - 180px)",
    "left": "10px",
    "top": "150px",
    "width": "165px"
   },
   "toc_section_display": true,
   "toc_window_display": false
  }
 },
 "nbformat": 4,
 "nbformat_minor": 2
}
